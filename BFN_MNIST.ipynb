{
 "cells": [
  {
   "cell_type": "code",
   "execution_count": 1,
   "metadata": {},
   "outputs": [],
   "source": [
    "# import torch\n",
    "# import torch.nn as nn\n",
    "# import torch.nn.functional as F\n",
    "# import torch_ema\n",
    "\n",
    "# import torchvision\n",
    "# import torchvision.transforms as transforms\n",
    "\n",
    "# import numpy as np\n",
    "# import random\n",
    "\n",
    "# import matplotlib.pyplot as plt\n",
    "# from tqdm.auto import tqdm\n",
    "# from torch.utils.data import DataLoader, Dataset\n",
    "\n",
    "# from bfn.bfn_discrete import VanillaBFNDiscrete\n",
    "# from models.unet_improved import UNetModel"
   ]
  },
  {
   "cell_type": "code",
   "execution_count": null,
   "metadata": {},
   "outputs": [],
   "source": []
  },
  {
   "cell_type": "code",
   "execution_count": 2,
   "metadata": {},
   "outputs": [],
   "source": [
    "%load_ext autoreload\n",
    "%autoreload 2\n",
    "import sys\n",
    "sys.path.append('/home/krisztina/Documents/MLMI/Advanced_ML/BayesianFlowNetworks/')\n",
    "from trainer import DiscreteBFNTrainer\n",
    "trainer = DiscreteBFNTrainer(wandb_project_name=None, device='cpu')\n"
   ]
  },
  {
   "cell_type": "code",
   "execution_count": 2,
   "metadata": {},
   "outputs": [],
   "source": [
    "#trainer.train()"
   ]
  },
  {
   "cell_type": "code",
   "execution_count": null,
   "metadata": {},
   "outputs": [
    {
     "data": {
      "text/plain": [
       "28.0"
      ]
     },
     "execution_count": 5,
     "metadata": {},
     "output_type": "execute_result"
    }
   ],
   "source": [
    "# input x: torch.Size([32, 1, 28, 28])\n",
    "# falttened x: torch.Size([32, 784])\n",
    "# x.dtype: torch.int64\n",
    "# x: torch.Size([32, 784])\n",
    "# e_x: torch.Size([32, 784, 2])\n",
    "# beta: torch.Size([32, 784, 1])\n",
    "# y shape: torch.Size([32, 784, 2])\n",
    "# theta shape: torch.Size([32, 784, 2])\n",
    "# t shape: torch.Size([32, 784])\n",
    "# FourierIIA img.shape torch.Size([32, 784, 1])\n",
    "# FourierIIA img.shape torch.Size([32, 28, 28, 1])\n",
    "# FourierIIA t.shape torch.Size([32, 784, 1])\n",
    "# flat_img.shape torch.Size([32, 784, 1])\n",
    "# flat_t.shape torch.Size([32, 784, 1])\n",
    "# t_feats.shape torch.Size([32, 784, 1])\n",
    "# all_feat_list[0].shape torch.Size([32, 784, 1])\n",
    "# all_feat_list[1].shape torch.Size([32, 784, 1])\n",
    "#  model output shape: torch.Size([32, 784, 1])\n",
    "# p_output or e_hat shape: torch.Size([32, 784, 2])\n",
    "# e_x shape: torch.Size([32, 784, 2])\n",
    "# t shape: torch.Size([32, 784])"
   ]
  },
  {
   "cell_type": "code",
   "execution_count": null,
   "metadata": {},
   "outputs": [
    {
     "data": {
      "text/plain": [
       "784"
      ]
     },
     "execution_count": 4,
     "metadata": {},
     "output_type": "execute_result"
    }
   ],
   "source": [
    "# import torch\n",
    "# input_shape = [28, 28]\n",
    "# input_channels = 1\n",
    "# img = torch.randn((32, 784, 1))\n",
    "# img = img.reshape(-1, *input_shape, input_channels)\n",
    "# print(img.shape)"
   ]
  },
  {
   "cell_type": "code",
   "execution_count": null,
   "metadata": {},
   "outputs": [],
   "source": [
    "import torch\n",
    "from datasets.utils import get_image_grid_from_tensor\n",
    "model = trainer.bfn_model\n",
    "model.eval()\n",
    "\n",
    "# Generate samples and priors\n",
    "samples, priors = model.sample_generation_for_discretised_data(n_steps=5)\n",
    "samples = samples.to(torch.float32)\n"
   ]
  },
  {
   "cell_type": "code",
   "execution_count": null,
   "metadata": {},
   "outputs": [
    {
     "name": "stderr",
     "output_type": "stream",
     "text": [
      "/home/krisztina/Documents/MLMI/Advanced_ML/BayesianFlowNetworks/.conda/lib/python3.11/site-packages/torch/cuda/__init__.py:141: UserWarning: CUDA initialization: The NVIDIA driver on your system is too old (found version 11040). Please update your GPU driver by downloading and installing a new version from the URL: http://www.nvidia.com/Download/index.aspx Alternatively, go to: https://pytorch.org to install a PyTorch version that has been compiled with your version of the CUDA driver. (Triggered internally at ../c10/cuda/CUDAFunctions.cpp:108.)\n",
      "  return torch._C._cuda_getDeviceCount() > 0\n"
     ]
    }
   ],
   "source": [
    "DATAPATH = \"./data/\"\n",
    "SEED = 42\n",
    "DEVICE = torch.device(\"cuda\" if torch.cuda.is_available() else \"cpu\")\n",
    "SAVE_MODEL = True\n",
    "MODELS_PATH = \"./models/\""
   ]
  },
  {
   "cell_type": "code",
   "execution_count": null,
   "metadata": {},
   "outputs": [],
   "source": [
    "random.seed(SEED)\n",
    "np.random.seed(SEED)\n",
    "torch.manual_seed(SEED)\n",
    "torch.use_deterministic_algorithms(True)"
   ]
  },
  {
   "cell_type": "code",
   "execution_count": null,
   "metadata": {},
   "outputs": [],
   "source": [
    "def get_sample(dataloader: torch.utils.data.DataLoader) -> tuple[torch.Tensor, int]:\n",
    "    \"\"\"\n",
    "    Returns a random sample from a data loader\n",
    "\n",
    "    Args:\n",
    "        dataloader (torch.utils.data.DataLoader): data loader storing the images.\n",
    "\n",
    "    Returns:\n",
    "        tuple[torch.Tensor, int]: (image, label)\n",
    "    \"\"\"\n",
    "    for sample in dataloader:\n",
    "        return sample[0], sample[1][0].numpy()\n",
    "    raise IndexError(\"Could not sample an empty data loader.\")\n",
    "    \n",
    "def show_samples(dataloader: torch.utils.data.DataLoader, n: int, title: str=None) -> None:\n",
    "    \"\"\"\n",
    "    Displays some random samples from a data loader.\n",
    "\n",
    "    Args:\n",
    "        dataloader (torch.utils.data.DataLoader): data loader storing the images.\n",
    "        n (int): number of samples to display.\n",
    "    \"\"\"\n",
    "    fig, ax = plt.subplots(1, n, figsize=(3*n, 3))\n",
    "    for i in range(n):\n",
    "        img, label = get_sample(dataloader)\n",
    "        ax[i].imshow(img[0][0], cmap='Greys_r', interpolation='nearest')\n",
    "        ax[i].set_title(label)\n",
    "        ax[i].axis(\"off\")\n",
    "    title = title if title else f\"{n} random samples\"\n",
    "    fig.suptitle(title, position=(0.5, 1.1))\n",
    "    \n",
    "def moving_average(data: list[float], window_size: int=20) -> list[float]:\n",
    "    \"\"\"\n",
    "    Computes the moving average of a list of values.\n",
    "\n",
    "    Args:\n",
    "        data (list[float]): list of values.\n",
    "        window_size (int, optional): length of the window over which the values will be averaged out. Defaults to 20.\n",
    "\n",
    "    Returns:\n",
    "        list[float]: list of averaged values.\n",
    "    \"\"\"\n",
    "    moving_avg = []\n",
    "    for i in range(len(data) - window_size + 1):\n",
    "        window = data[i : i + window_size]\n",
    "        avg = sum(window) / window_size\n",
    "        moving_avg.append(avg)\n",
    "    return moving_avg"
   ]
  },
  {
   "cell_type": "code",
   "execution_count": null,
   "metadata": {},
   "outputs": [
    {
     "name": "stdout",
     "output_type": "stream",
     "text": [
      "Downloading http://yann.lecun.com/exdb/mnist/train-images-idx3-ubyte.gz\n",
      "Downloading http://yann.lecun.com/exdb/mnist/train-images-idx3-ubyte.gz to ./data/MNIST/raw/train-images-idx3-ubyte.gz\n"
     ]
    },
    {
     "name": "stderr",
     "output_type": "stream",
     "text": [
      "100%|██████████| 9912422/9912422 [00:05<00:00, 1698644.40it/s]\n"
     ]
    },
    {
     "name": "stdout",
     "output_type": "stream",
     "text": [
      "Extracting ./data/MNIST/raw/train-images-idx3-ubyte.gz to ./data/MNIST/raw\n",
      "\n",
      "Downloading http://yann.lecun.com/exdb/mnist/train-labels-idx1-ubyte.gz\n",
      "Downloading http://yann.lecun.com/exdb/mnist/train-labels-idx1-ubyte.gz to ./data/MNIST/raw/train-labels-idx1-ubyte.gz\n"
     ]
    },
    {
     "name": "stderr",
     "output_type": "stream",
     "text": [
      "100%|██████████| 28881/28881 [00:00<00:00, 28263111.02it/s]"
     ]
    },
    {
     "name": "stdout",
     "output_type": "stream",
     "text": [
      "Extracting ./data/MNIST/raw/train-labels-idx1-ubyte.gz to ./data/MNIST/raw\n",
      "\n",
      "Downloading http://yann.lecun.com/exdb/mnist/t10k-images-idx3-ubyte.gz\n",
      "Downloading http://yann.lecun.com/exdb/mnist/t10k-images-idx3-ubyte.gz to ./data/MNIST/raw/t10k-images-idx3-ubyte.gz\n"
     ]
    },
    {
     "name": "stderr",
     "output_type": "stream",
     "text": [
      "\n",
      "100%|██████████| 1648877/1648877 [00:00<00:00, 1653096.94it/s]\n"
     ]
    },
    {
     "name": "stdout",
     "output_type": "stream",
     "text": [
      "Extracting ./data/MNIST/raw/t10k-images-idx3-ubyte.gz to ./data/MNIST/raw\n",
      "\n",
      "Downloading http://yann.lecun.com/exdb/mnist/t10k-labels-idx1-ubyte.gz\n",
      "Downloading http://yann.lecun.com/exdb/mnist/t10k-labels-idx1-ubyte.gz to ./data/MNIST/raw/t10k-labels-idx1-ubyte.gz\n"
     ]
    },
    {
     "name": "stderr",
     "output_type": "stream",
     "text": [
      "100%|██████████| 4542/4542 [00:00<00:00, 6955286.15it/s]"
     ]
    },
    {
     "name": "stdout",
     "output_type": "stream",
     "text": [
      "Extracting ./data/MNIST/raw/t10k-labels-idx1-ubyte.gz to ./data/MNIST/raw\n",
      "\n"
     ]
    },
    {
     "name": "stderr",
     "output_type": "stream",
     "text": [
      "\n"
     ]
    }
   ],
   "source": [
    "transform = transforms.Compose([\n",
    "    transforms.ToTensor(), # convert to tensor\n",
    "    transforms.Normalize((0.5,), (0.5,)) # normalize pixel values to [-1, 1]\n",
    "])\n",
    "\n",
    "#download and load the MNIST dataset \n",
    "train_dataset = torchvision.datasets.MNIST(root=DATAPATH, train=True, download=True, transform=transform)\n",
    "test_dataset = torchvision.datasets.MNIST(root=DATAPATH, train=False, download=True, transform=transform)\n",
    "\n",
    "#create data loaders\n",
    "batch_size=64\n",
    "train_loader = DataLoader(dataset=train_dataset, batch_size=batch_size, shuffle=True)\n",
    "test_loader = DataLoader(dataset=test_dataset, batch_size=batch_size, shuffle=False)"
   ]
  },
  {
   "cell_type": "code",
   "execution_count": null,
   "metadata": {},
   "outputs": [],
   "source": [
    "class DynamicallyBinarizedMNIST(torchvision.datasets.MNIST):\n",
    "    def __init__(self, root, train=True, transform=None, target_transform=None, download=False):\n",
    "        super(DynamicallyBinarizedMNIST, self).__init__(root, train=train, transform=transform,\n",
    "                                                        target_transform=target_transform, download=download)\n",
    "\n",
    "    def __getitem__(self, index):\n",
    "        img, target = self.data[index], int(self.targets[index])\n",
    "        if self.transform is not None:\n",
    "            img = self.transform(img)\n",
    "        return img, target\n",
    "\n",
    "def collate_dynamic_binarize(batch: list[tuple[torch.Tensor, int]]) -> tuple[torch.Tensor, torch.Tensor]:\n",
    "    \"\"\"\n",
    "    Collate function that samples a binarization probability for each batch.\n",
    "\n",
    "    Args:\n",
    "        batch (list[tuple[torch.Tensor, int]]): list of samples to collate.\n",
    "\n",
    "    Returns:\n",
    "        tuple[torch.Tensor, torch.Tensor]: resulting batch.\n",
    "    \"\"\"\n",
    "    images, targets = zip(*batch)\n",
    "    binarization_probs = torch.rand(len(images))\n",
    "    binarized_images = []\n",
    "    for img, prob in zip(images, binarization_probs):\n",
    "        binarized_img = (img > prob).float()\n",
    "        binarized_images.append(binarized_img)\n",
    "    return torch.stack(binarized_images)[:, None, ...].to(torch.int64), torch.tensor(targets)\n",
    "\n",
    "# Create the dynamically binarized MNIST dataset\n",
    "train_dataset = DynamicallyBinarizedMNIST(root=DATAPATH, train=True, download=True) # transform=transform\n",
    "test_dataset = DynamicallyBinarizedMNIST(root=DATAPATH, train=False, download=True) # transform=transform\n",
    "\n",
    "# Create data loaders with the collate function\n",
    "batch_size = 512\n",
    "train_loader = torch.utils.data.DataLoader(dataset=train_dataset, batch_size=batch_size, shuffle=True, collate_fn=collate_dynamic_binarize)\n",
    "test_loader = torch.utils.data.DataLoader(dataset=test_dataset, batch_size=batch_size, shuffle=False, collate_fn=collate_dynamic_binarize)"
   ]
  },
  {
   "cell_type": "code",
   "execution_count": null,
   "metadata": {},
   "outputs": [
    {
     "name": "stdout",
     "output_type": "stream",
     "text": [
      "Number of data points in the training dataset: 118\n",
      "Number of data points in the training dataset: 20\n"
     ]
    },
    {
     "data": {
      "image/png": "[encoded data removed]",
      "text/plain": [
       "<Figure size 1500x300 with 5 Axes>"
      ]
     },
     "metadata": {},
     "output_type": "display_data"
    }
   ],
   "source": [
    "print(f\"Number of data points in the training dataset: {len(train_loader)}\")\n",
    "print(f\"Number of data points in the training dataset: {len(test_loader)}\")\n",
    "show_samples(train_loader, 5, \"Random samples from training dataset\")"
   ]
  },
  {
   "cell_type": "code",
   "execution_count": null,
   "metadata": {},
   "outputs": [],
   "source": []
  },
  {
   "cell_type": "code",
   "execution_count": null,
   "metadata": {},
   "outputs": [],
   "source": []
  },
  {
   "cell_type": "code",
   "execution_count": null,
   "metadata": {},
   "outputs": [],
   "source": []
  },
  {
   "cell_type": "code",
   "execution_count": null,
   "metadata": {},
   "outputs": [],
   "source": [
    "import torchvision\n",
    "from torch.utils.data import Dataset, DataLoader\n",
    "from torchvision import transforms\n",
    "from torchvision.utils import make_grid\n",
    "import torch.nn as nn\n",
    "from torch.utils.data.sampler import SubsetRandomSampler\n",
    "import numpy as np\n",
    "\n",
    "\n",
    "\n",
    "def idx_to_float(idx: np.ndarray, num_bins: int):\n",
    "    flt_zero_one = (idx + 0.5) / num_bins\n",
    "    return (2.0 * flt_zero_one) - 1.0\n",
    "\n",
    "def float_to_idx(flt: np.ndarray, num_bins: int):\n",
    "    flt_zero_one = (flt / 2.0) + 0.5\n",
    "    return torch.clamp(torch.floor(flt_zero_one * num_bins), min=0, max=num_bins - 1).long()\n",
    "\n",
    "def quantize(flt, num_bins: int):\n",
    "    return idx_to_float(float_to_idx(flt, num_bins), num_bins)\n",
    "\n",
    "\n",
    "def rgb_image_transform(x, num_bins=256):\n",
    "    return quantize((x * 2) - 1, num_bins).permute(1, 2, 0).contiguous()\n",
    "\n",
    "def get_image_grid_from_tensor(image_tensor, nrows=1):\n",
    "    return make_grid(image_tensor, nrow=nrows, normalize=True)\n",
    "\n",
    "class CIFAR10(torchvision.datasets.CIFAR10):\n",
    "    def __getitem__(self, idx):\n",
    "        return super().__getitem__(idx)[0]\n",
    "    \n",
    "def get_standard_transform(num_bins, train=True):\n",
    "    return transforms.Compose([transforms.ToTensor(),\n",
    "                            transforms.RandomHorizontalFlip() if train else nn.Identity(),\n",
    "                            transforms.Lambda(lambda x: rgb_image_transform(x, num_bins)),])\n",
    "\n",
    "def get_cifar10_datasets(num_bins:int = 16, root='./datasets/') -> tuple[Dataset, Dataset, Dataset]:\n",
    "    # create datasets, train and val are the same (apart from transform), test is official cifar10 test set\n",
    "    train_set = CIFAR10(root=root, train=True, download=True, transform=get_standard_transform(num_bins, train=True))\n",
    "    val_set = CIFAR10(root=root, train=True, download=True, transform=get_standard_transform(num_bins, train=False))\n",
    "    test_set = CIFAR10(root=root, train=False, download=True, transform=get_standard_transform(num_bins, train=False))\n",
    "    return train_set, val_set, test_set\n",
    "\n",
    "def get_cifar10_dataloaders(batch_size:int = 32, num_bins:int = 16, valid_size=0.01, seed=7) -> tuple[DataLoader, DataLoader, DataLoader]:\n",
    "\n",
    "    # get datasets\n",
    "    train_set, val_set, test_set = get_cifar10_datasets(num_bins)\n",
    "\n",
    "    # train and val are the same by default, split them up using SubsetRandomSampler\n",
    "    indices = list(range(len(train_set)))\n",
    "    split = int(valid_size*len(train_set))\n",
    "    np.random.seed(seed)\n",
    "    np.random.shuffle(indices)\n",
    "    train_idx, valid_idx = indices[split:], indices[:split]\n",
    "    train_sampler = SubsetRandomSampler(train_idx)\n",
    "    valid_sampler = SubsetRandomSampler(valid_idx)\n",
    "\n",
    "    # create dataloaders, using samplers\n",
    "    train_loader = DataLoader(train_set, sampler=train_sampler, batch_size=batch_size, drop_last=True)\n",
    "    val_loader = DataLoader(val_set, sampler=valid_sampler, batch_size=batch_size)\n",
    "    test_loader = DataLoader(test_set, batch_size=batch_size, shuffle=False)\n",
    "    return train_loader, val_loader, test_loader"
   ]
  },
  {
   "cell_type": "code",
   "execution_count": null,
   "metadata": {},
   "outputs": [],
   "source": [
    "\n"
   ]
  },
  {
   "cell_type": "code",
   "execution_count": null,
   "metadata": {},
   "outputs": [],
   "source": []
  },
  {
   "cell_type": "code",
   "execution_count": null,
   "metadata": {},
   "outputs": [],
   "source": [
    "# class MNIST(torchvision.datasets.MNIST):\n",
    "#     def __getitem__(self, idx):\n",
    "#         return super().__getitem__(idx)[0]\n",
    "\n",
    "# def bin_mnist_transform(x):\n",
    "#     return torch.bernoulli(x.permute(1, 2, 0).contiguous()).int()\n",
    "\n",
    "# transform = transforms.Compose([transforms.ToTensor(), transforms.Lambda(bin_mnist_transform)])\n",
    "# train_set = MNIST(root=DATAPATH, train=True, download=True, transform=transform)\n",
    "# val_set = MNIST(root=DATAPATH, train=True, download=True, transform=transform)\n",
    "# test_set = MNIST(root=DATAPATH, train=False, download=True, transform=transform)\n",
    "\n",
    "# batch_size = 512\n",
    "# train_loader = torch.utils.data.DataLoader(dataset=train_set, batch_size=batch_size, shuffle=True)#, collate_fn=collate_dynamic_binarize)\n",
    "# test_loader = torch.utils.data.DataLoader(dataset=test_set, batch_size=batch_size, shuffle=False)#, collate_fn=collate_dynamic_binarize)"
   ]
  },
  {
   "cell_type": "code",
   "execution_count": 1,
   "metadata": {},
   "outputs": [],
   "source": [
    "# print(f\"Number of data points in the training dataset: {len(train_loader)}\")\n",
    "# print(f\"Number of data points in the training dataset: {len(test_loader)}\")\n",
    "# show_samples(train_loader, 5, \"Random samples from training dataset\")"
   ]
  },
  {
   "cell_type": "code",
   "execution_count": null,
   "metadata": {},
   "outputs": [],
   "source": []
  }
 ],
 "metadata": {
  "kernelspec": {
   "display_name": "Python 3",
   "language": "python",
   "name": "python3"
  },
  "language_info": {
   "codemirror_mode": {
    "name": "ipython",
    "version": 3
   },
   "file_extension": ".py",
   "mimetype": "text/x-python",
   "name": "python",
   "nbconvert_exporter": "python",
   "pygments_lexer": "ipython3",
   "version": "3.11.7"
  }
 },
 "nbformat": 4,
 "nbformat_minor": 2
}
